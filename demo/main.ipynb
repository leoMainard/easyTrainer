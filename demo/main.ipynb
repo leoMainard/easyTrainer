{
 "cells": [
  {
   "cell_type": "code",
   "execution_count": 1,
   "metadata": {},
   "outputs": [],
   "source": [
    "import os\n",
    "import sys\n",
    "project_root = os.path.abspath(os.path.join(os.getcwd(), \"..\"))\n",
    "sys.path.append(project_root)"
   ]
  },
  {
   "cell_type": "code",
   "execution_count": 20,
   "metadata": {},
   "outputs": [],
   "source": [
    "import pandas as pd\n",
    "\n",
    "from easyTrainer.data.text import TextualPreparator\n",
    "from easyTrainer.models.sklearn_classifier_model import SklearnClassifierModel\n",
    "\n",
    "from sklearn.ensemble import RandomForestClassifier"
   ]
  },
  {
   "cell_type": "code",
   "execution_count": null,
   "metadata": {},
   "outputs": [
    {
     "name": "stdout",
     "output_type": "stream",
     "text": [
      "TextualPreparator with transformations: drop_accents@1, txt_to_lower@2, drop_special_characters@3, drop_words_less_than_N_letters@4, drop_stopwords@5, lemmatize@6, drop_digits@7\n"
     ]
    }
   ],
   "source": [
    "TP = TextualPreparator(\n",
    "    drop_digits=7,\n",
    "    lemmatize=6,\n",
    "    to_lower=2, \n",
    "    drop_accents=1,\n",
    "    drop_special_characters=3,\n",
    "    drop_stopwords=5,\n",
    "    drop_words_less_than_N_letters=(4,4,True)\n",
    ")\n",
    "\n",
    "print(TP)"
   ]
  },
  {
   "cell_type": "code",
   "execution_count": 17,
   "metadata": {},
   "outputs": [],
   "source": [
    "df = pd.DataFrame({\n",
    "    \"col1\":['alons Enfants de la patrié 3000 autre mot','une NOUVELLE phrase again le jambons'],\n",
    "    \"col2\":['alons Enfants de la patrié 3000 autre mot LE CACA','une NOUVELLE phrase again le jambons'],\n",
    "    \"col_numeric\": [4123, 674]\n",
    "})\n",
    "\n",
    "df_prep = TP.prepare(df, all=False)"
   ]
  },
  {
   "cell_type": "code",
   "execution_count": 18,
   "metadata": {},
   "outputs": [
    {
     "data": {
      "application/vnd.microsoft.datawrangler.viewer.v0+json": {
       "columns": [
        {
         "name": "index",
         "rawType": "int64",
         "type": "integer"
        },
        {
         "name": "col1",
         "rawType": "object",
         "type": "string"
        },
        {
         "name": "col2",
         "rawType": "object",
         "type": "string"
        },
        {
         "name": "col_numeric",
         "rawType": "int64",
         "type": "integer"
        }
       ],
       "conversionMethod": "pd.DataFrame",
       "ref": "bd2b156b-cc36-437e-bdb7-3b48d9898d0b",
       "rows": [
        [
         "0",
         "alon enfant patrie  ",
         "alon enfant patrie   caca",
         "4123"
        ],
        [
         "1",
         "nouveau phras again jambon",
         "nouveau phras again jambon",
         "674"
        ]
       ],
       "shape": {
        "columns": 3,
        "rows": 2
       }
      },
      "text/html": [
       "<div>\n",
       "<style scoped>\n",
       "    .dataframe tbody tr th:only-of-type {\n",
       "        vertical-align: middle;\n",
       "    }\n",
       "\n",
       "    .dataframe tbody tr th {\n",
       "        vertical-align: top;\n",
       "    }\n",
       "\n",
       "    .dataframe thead th {\n",
       "        text-align: right;\n",
       "    }\n",
       "</style>\n",
       "<table border=\"1\" class=\"dataframe\">\n",
       "  <thead>\n",
       "    <tr style=\"text-align: right;\">\n",
       "      <th></th>\n",
       "      <th>col1</th>\n",
       "      <th>col2</th>\n",
       "      <th>col_numeric</th>\n",
       "    </tr>\n",
       "  </thead>\n",
       "  <tbody>\n",
       "    <tr>\n",
       "      <th>0</th>\n",
       "      <td>alon enfant patrie</td>\n",
       "      <td>alon enfant patrie   caca</td>\n",
       "      <td>4123</td>\n",
       "    </tr>\n",
       "    <tr>\n",
       "      <th>1</th>\n",
       "      <td>nouveau phras again jambon</td>\n",
       "      <td>nouveau phras again jambon</td>\n",
       "      <td>674</td>\n",
       "    </tr>\n",
       "  </tbody>\n",
       "</table>\n",
       "</div>"
      ],
      "text/plain": [
       "                         col1                        col2  col_numeric\n",
       "0        alon enfant patrie     alon enfant patrie   caca         4123\n",
       "1  nouveau phras again jambon  nouveau phras again jambon          674"
      ]
     },
     "execution_count": 18,
     "metadata": {},
     "output_type": "execute_result"
    }
   ],
   "source": [
    "df_prep"
   ]
  },
  {
   "cell_type": "code",
   "execution_count": 14,
   "metadata": {},
   "outputs": [
    {
     "data": {
      "text/plain": [
       "['coucou team aimer tester phras']"
      ]
     },
     "execution_count": 14,
     "metadata": {},
     "output_type": "execute_result"
    }
   ],
   "source": [
    "TP.prepare([\"coucou la team, j'aimerais tester cette phrase.\"])"
   ]
  }
 ],
 "metadata": {
  "kernelspec": {
   "display_name": ".venv",
   "language": "python",
   "name": "python3"
  },
  "language_info": {
   "codemirror_mode": {
    "name": "ipython",
    "version": 3
   },
   "file_extension": ".py",
   "mimetype": "text/x-python",
   "name": "python",
   "nbconvert_exporter": "python",
   "pygments_lexer": "ipython3",
   "version": "3.10.0"
  }
 },
 "nbformat": 4,
 "nbformat_minor": 2
}
